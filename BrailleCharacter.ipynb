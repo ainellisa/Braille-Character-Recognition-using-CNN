{
  "cells": [
    {
      "cell_type": "code",
      "execution_count": null,
      "metadata": {
        "id": "NdYZxLznT1h7"
      },
      "outputs": [],
      "source": [
        "import matplotlib.pyplot as plt\n",
        "import seaborn as sns\n",
        "import tensorflow as tf\n",
        "from tensorflow import keras\n",
        "from pathlib import Path\n",
        "from sklearn.preprocessing import LabelEncoder\n",
        "import PIL\n",
        "import cv2\n",
        "import numpy as np\n",
        "import pandas as pd\n",
        "import os\n",
        "import zipfile\n",
        "from sklearn.model_selection import train_test_split\n",
        "from keras.callbacks import EarlyStopping\n",
        "from sklearn.metrics import confusion_matrix, accuracy_score, classification_report"
      ]
    },
    {
      "cell_type": "markdown",
      "metadata": {
        "id": "IVQWf7CbIuhH"
      },
      "source": [
        "Extract the folder"
      ]
    },
    {
      "cell_type": "code",
      "execution_count": null,
      "metadata": {
        "id": "LVhSnqOvHnGq"
      },
      "outputs": [],
      "source": [
        "def unzip_folder(zip_file, destination_folder):\n",
        "    with zipfile.ZipFile(zip_file, 'r') as zip_ref:\n",
        "        zip_ref.extractall(destination_folder)\n",
        "\n",
        "\n",
        "zip_file = '/content/BrailleInputImg.zip'  # Path to your zip file\n",
        "destination_folder = '/content/BrailleInputImgs'  # Path of extracted folder\n",
        "\n",
        "unzip_folder(zip_file, destination_folder)\n"
      ]
    },
    {
      "cell_type": "markdown",
      "metadata": {
        "id": "KaCdz7IYTrT-"
      },
      "source": [
        "Preparation of dataset"
      ]
    },
    {
      "cell_type": "code",
      "execution_count": null,
      "metadata": {
        "id": "xScdnArVTvml"
      },
      "outputs": [],
      "source": [
        "image_dir = Path('/content/BrailleInputImgs/Braille Dataset/Braille Dataset')\n",
        "dir_list = list(image_dir.glob('*.jpg'))"
      ]
    },
    {
      "cell_type": "markdown",
      "metadata": {
        "id": "HygzctMmUr30"
      },
      "source": [
        "Get the class name of each image"
      ]
    },
    {
      "cell_type": "code",
      "execution_count": null,
      "metadata": {
        "id": "WqXCQrtNUwwI"
      },
      "outputs": [],
      "source": [
        "img_class = []\n",
        "for img_path in dir_list:\n",
        "  temp = os.path.basename(img_path)\n",
        "  img_class.append(temp[0])"
      ]
    },
    {
      "cell_type": "markdown",
      "metadata": {
        "id": "cWXPflBfVZkm"
      },
      "source": [
        "Convert the images to data"
      ]
    },
    {
      "cell_type": "code",
      "execution_count": null,
      "metadata": {
        "id": "ukKUFTCqVU92"
      },
      "outputs": [],
      "source": [
        "img_data = []\n",
        "\n",
        "for img_path in dir_list:\n",
        "    I = cv2.imread(str(img_path))\n",
        "    img_data.append(I)"
      ]
    },
    {
      "cell_type": "markdown",
      "metadata": {
        "id": "nF6bwOjLVnIT"
      },
      "source": [
        "Convert to numpy"
      ]
    },
    {
      "cell_type": "code",
      "execution_count": null,
      "metadata": {
        "id": "wJuarRXCVpPe"
      },
      "outputs": [],
      "source": [
        "images_list = np.array(img_data)\n",
        "name_list = np.array(img_class).T"
      ]
    },
    {
      "cell_type": "markdown",
      "metadata": {
        "id": "P2aowOXxWHEo"
      },
      "source": [
        "Perform encoding on the labels"
      ]
    },
    {
      "cell_type": "code",
      "execution_count": null,
      "metadata": {
        "id": "ZAR5gYQwWKOD"
      },
      "outputs": [],
      "source": [
        "le = LabelEncoder()\n",
        "name_list = le.fit_transform(name_list)"
      ]
    },
    {
      "cell_type": "markdown",
      "metadata": {
        "id": "NOw9sV_4WN-m"
      },
      "source": [
        "Normalize the image data"
      ]
    },
    {
      "cell_type": "code",
      "execution_count": null,
      "metadata": {
        "id": "MoGP51uKWP0W"
      },
      "outputs": [],
      "source": [
        "images_list = images_list / 255.0"
      ]
    },
    {
      "cell_type": "markdown",
      "metadata": {
        "id": "dIYXyo6qWXpp"
      },
      "source": [
        "Split into training and testing dataset"
      ]
    },
    {
      "cell_type": "code",
      "execution_count": null,
      "metadata": {
        "id": "AbNYUXsZWVi0"
      },
      "outputs": [],
      "source": [
        "X_train, X_test, y_train, y_test = train_test_split(images_list, name_list, test_size=0.2, random_state=42)"
      ]
    },
    {
      "cell_type": "markdown",
      "metadata": {
        "id": "oiTrofqOWkqg"
      },
      "source": [
        "Create the model"
      ]
    },
    {
      "cell_type": "code",
      "execution_count": null,
      "metadata": {
        "id": "dgDFYhT8Wm8b"
      },
      "outputs": [],
      "source": [
        "model = keras.Sequential([\n",
        "    keras.layers.Conv2D(filters=64, kernel_size=(5, 5), padding='same', activation='relu'),\n",
        "    keras.layers.Conv2D(filters=64, kernel_size=(3, 3), padding='same', activation='relu'),\n",
        "    keras.layers.MaxPooling2D(),\n",
        "    keras.layers.Conv2D(filters=64, kernel_size=(3, 3), padding='same', activation='relu'),\n",
        "    keras.layers.MaxPooling2D(),\n",
        "    keras.layers.Conv2D(filters=64, kernel_size=(3, 3), padding='same', activation='relu'),\n",
        "    keras.layers.MaxPooling2D(),\n",
        "    keras.layers.Flatten(),\n",
        "    keras.layers.Dense(units=576, activation=\"relu\"),\n",
        "    keras.layers.Dense(units=288, activation=\"relu\"),\n",
        "    keras.layers.Dense(units=26, activation=\"softmax\") #output layer\n",
        "])"
      ]
    },
    {
      "cell_type": "code",
      "execution_count": null,
      "metadata": {
        "id": "8uNBDS5xWtwp"
      },
      "outputs": [],
      "source": [
        "model.compile(optimizer=\"Adam\", loss=\"SparseCategoricalCrossentropy\", metrics=[\"sparse_categorical_accuracy\"])"
      ]
    },
    {
      "cell_type": "code",
      "execution_count": null,
      "metadata": {
        "colab": {
          "base_uri": "https://localhost:8080/"
        },
        "id": "ahy0N8QRWu0C",
        "outputId": "11bc7bf6-b4a4-483b-9c62-41e1fcd52517"
      },
      "outputs": [
        {
          "name": "stdout",
          "output_type": "stream",
          "text": [
            "Epoch 1/1000\n",
            "28/28 [==============================] - ETA: 0s - loss: 3.2682 - sparse_categorical_accuracy: 0.0401"
          ]
        },
        {
          "name": "stderr",
          "output_type": "stream",
          "text": [
            "WARNING:tensorflow:Early stopping conditioned on metric `val_acc` which is not available. Available metrics are: loss,sparse_categorical_accuracy,val_loss,val_sparse_categorical_accuracy\n"
          ]
        },
        {
          "name": "stdout",
          "output_type": "stream",
          "text": [
            "\b\b\b\b\b\b\b\b\b\b\b\b\b\b\b\b\b\b\b\b\b\b\b\b\b\b\b\b\b\b\b\b\b\b\b\b\b\b\b\b\b\b\b\b\b\b\b\b\b\b\b\b\b\b\b\b\b\b\b\b\b\b\b\b\b\b\b\b\b\b\b\b\b\b\b\b\b\b\b\b\b\b\b\b\b\b\b\b\b\b\b\b\b\b\b\b\b\b\b\b\b\r28/28 [==============================] - 1s 29ms/step - loss: 3.2682 - sparse_categorical_accuracy: 0.0401 - val_loss: 3.2588 - val_sparse_categorical_accuracy: 0.0373\n",
            "Epoch 2/1000\n",
            "21/28 [=====================>........] - ETA: 0s - loss: 3.2568 - sparse_categorical_accuracy: 0.0536"
          ]
        },
        {
          "name": "stderr",
          "output_type": "stream",
          "text": [
            "WARNING:tensorflow:Early stopping conditioned on metric `val_acc` which is not available. Available metrics are: loss,sparse_categorical_accuracy,val_loss,val_sparse_categorical_accuracy\n"
          ]
        },
        {
          "name": "stdout",
          "output_type": "stream",
          "text": [
            "\b\b\b\b\b\b\b\b\b\b\b\b\b\b\b\b\b\b\b\b\b\b\b\b\b\b\b\b\b\b\b\b\b\b\b\b\b\b\b\b\b\b\b\b\b\b\b\b\b\b\b\b\b\b\b\b\b\b\b\b\b\b\b\b\b\b\b\b\b\b\b\b\b\b\b\b\b\b\b\b\b\b\b\b\b\b\b\b\b\b\b\b\b\b\b\b\b\b\b\b\b\r28/28 [==============================] - 0s 7ms/step - loss: 3.2560 - sparse_categorical_accuracy: 0.0550 - val_loss: 3.2359 - val_sparse_categorical_accuracy: 0.0907\n",
            "Epoch 3/1000\n",
            "20/28 [====================>.........] - ETA: 0s - loss: 2.7556 - sparse_categorical_accuracy: 0.2016"
          ]
        },
        {
          "name": "stderr",
          "output_type": "stream",
          "text": [
            "WARNING:tensorflow:Early stopping conditioned on metric `val_acc` which is not available. Available metrics are: loss,sparse_categorical_accuracy,val_loss,val_sparse_categorical_accuracy\n"
          ]
        },
        {
          "name": "stdout",
          "output_type": "stream",
          "text": [
            "\b\b\b\b\b\b\b\b\b\b\b\b\b\b\b\b\b\b\b\b\b\b\b\b\b\b\b\b\b\b\b\b\b\b\b\b\b\b\b\b\b\b\b\b\b\b\b\b\b\b\b\b\b\b\b\b\b\b\b\b\b\b\b\b\b\b\b\b\b\b\b\b\b\b\b\b\b\b\b\b\b\b\b\b\b\b\b\b\b\b\b\b\b\b\b\b\b\b\b\b\b\r28/28 [==============================] - 0s 8ms/step - loss: 2.5509 - sparse_categorical_accuracy: 0.2680 - val_loss: 1.9085 - val_sparse_categorical_accuracy: 0.4347\n",
            "Epoch 4/1000\n",
            "20/28 [====================>.........] - ETA: 0s - loss: 1.3979 - sparse_categorical_accuracy: 0.5984"
          ]
        },
        {
          "name": "stderr",
          "output_type": "stream",
          "text": [
            "WARNING:tensorflow:Early stopping conditioned on metric `val_acc` which is not available. Available metrics are: loss,sparse_categorical_accuracy,val_loss,val_sparse_categorical_accuracy\n"
          ]
        },
        {
          "name": "stdout",
          "output_type": "stream",
          "text": [
            "\b\b\b\b\b\b\b\b\b\b\b\b\b\b\b\b\b\b\b\b\b\b\b\b\b\b\b\b\b\b\b\b\b\b\b\b\b\b\b\b\b\b\b\b\b\b\b\b\b\b\b\b\b\b\b\b\b\b\b\b\b\b\b\b\b\b\b\b\b\b\b\b\b\b\b\b\b\b\b\b\b\b\b\b\b\b\b\b\b\b\b\b\b\b\b\b\b\b\b\b\b\r28/28 [==============================] - 0s 8ms/step - loss: 1.3317 - sparse_categorical_accuracy: 0.6243 - val_loss: 1.0908 - val_sparse_categorical_accuracy: 0.6960\n",
            "Epoch 5/1000\n",
            "28/28 [==============================] - ETA: 0s - loss: 0.8069 - sparse_categorical_accuracy: 0.7537"
          ]
        },
        {
          "name": "stderr",
          "output_type": "stream",
          "text": [
            "WARNING:tensorflow:Early stopping conditioned on metric `val_acc` which is not available. Available metrics are: loss,sparse_categorical_accuracy,val_loss,val_sparse_categorical_accuracy\n"
          ]
        },
        {
          "name": "stdout",
          "output_type": "stream",
          "text": [
            "\b\b\b\b\b\b\b\b\b\b\b\b\b\b\b\b\b\b\b\b\b\b\b\b\b\b\b\b\b\b\b\b\b\b\b\b\b\b\b\b\b\b\b\b\b\b\b\b\b\b\b\b\b\b\b\b\b\b\b\b\b\b\b\b\b\b\b\b\b\b\b\b\b\b\b\b\b\b\b\b\b\b\b\b\b\b\b\b\b\b\b\b\b\b\b\b\b\b\b\b\b\r28/28 [==============================] - 0s 8ms/step - loss: 0.8069 - sparse_categorical_accuracy: 0.7537 - val_loss: 0.9702 - val_sparse_categorical_accuracy: 0.7067\n",
            "Epoch 6/1000\n",
            "20/28 [====================>.........] - ETA: 0s - loss: 0.5417 - sparse_categorical_accuracy: 0.8359"
          ]
        },
        {
          "name": "stderr",
          "output_type": "stream",
          "text": [
            "WARNING:tensorflow:Early stopping conditioned on metric `val_acc` which is not available. Available metrics are: loss,sparse_categorical_accuracy,val_loss,val_sparse_categorical_accuracy\n"
          ]
        },
        {
          "name": "stdout",
          "output_type": "stream",
          "text": [
            "\b\b\b\b\b\b\b\b\b\b\b\b\b\b\b\b\b\b\b\b\b\b\b\b\b\b\b\b\b\b\b\b\b\b\b\b\b\b\b\b\b\b\b\b\b\b\b\b\b\b\b\b\b\b\b\b\b\b\b\b\b\b\b\b\b\b\b\b\b\b\b\b\b\b\b\b\b\b\b\b\b\b\b\b\b\b\b\b\b\b\b\b\b\b\b\b\b\b\b\b\b\r28/28 [==============================] - 0s 8ms/step - loss: 0.5141 - sparse_categorical_accuracy: 0.8385 - val_loss: 0.7000 - val_sparse_categorical_accuracy: 0.8213\n",
            "Epoch 7/1000\n",
            "19/28 [===================>..........] - ETA: 0s - loss: 0.3553 - sparse_categorical_accuracy: 0.8898"
          ]
        },
        {
          "name": "stderr",
          "output_type": "stream",
          "text": [
            "WARNING:tensorflow:Early stopping conditioned on metric `val_acc` which is not available. Available metrics are: loss,sparse_categorical_accuracy,val_loss,val_sparse_categorical_accuracy\n"
          ]
        },
        {
          "name": "stdout",
          "output_type": "stream",
          "text": [
            "\b\b\b\b\b\b\b\b\b\b\b\b\b\b\b\b\b\b\b\b\b\b\b\b\b\b\b\b\b\b\b\b\b\b\b\b\b\b\b\b\b\b\b\b\b\b\b\b\b\b\b\b\b\b\b\b\b\b\b\b\b\b\b\b\b\b\b\b\b\b\b\b\b\b\b\b\b\b\b\b\b\b\b\b\b\b\b\b\b\b\b\b\b\b\b\b\b\b\b\b\b\r28/28 [==============================] - 0s 9ms/step - loss: 0.3411 - sparse_categorical_accuracy: 0.8946 - val_loss: 0.6101 - val_sparse_categorical_accuracy: 0.8400\n",
            "Epoch 8/1000\n",
            "27/28 [===========================>..] - ETA: 0s - loss: 0.2010 - sparse_categorical_accuracy: 0.9444"
          ]
        },
        {
          "name": "stderr",
          "output_type": "stream",
          "text": [
            "WARNING:tensorflow:Early stopping conditioned on metric `val_acc` which is not available. Available metrics are: loss,sparse_categorical_accuracy,val_loss,val_sparse_categorical_accuracy\n"
          ]
        },
        {
          "name": "stdout",
          "output_type": "stream",
          "text": [
            "\b\b\b\b\b\b\b\b\b\b\b\b\b\b\b\b\b\b\b\b\b\b\b\b\b\b\b\b\b\b\b\b\b\b\b\b\b\b\b\b\b\b\b\b\b\b\b\b\b\b\b\b\b\b\b\b\b\b\b\b\b\b\b\b\b\b\b\b\b\b\b\b\b\b\b\b\b\b\b\b\b\b\b\b\b\b\b\b\b\b\b\b\b\b\b\b\b\b\b\b\b\r28/28 [==============================] - 0s 8ms/step - loss: 0.1992 - sparse_categorical_accuracy: 0.9450 - val_loss: 0.6293 - val_sparse_categorical_accuracy: 0.8507\n",
            "Epoch 9/1000\n",
            "27/28 [===========================>..] - ETA: 0s - loss: 0.1236 - sparse_categorical_accuracy: 0.9653"
          ]
        },
        {
          "name": "stderr",
          "output_type": "stream",
          "text": [
            "WARNING:tensorflow:Early stopping conditioned on metric `val_acc` which is not available. Available metrics are: loss,sparse_categorical_accuracy,val_loss,val_sparse_categorical_accuracy\n"
          ]
        },
        {
          "name": "stdout",
          "output_type": "stream",
          "text": [
            "\b\b\b\b\b\b\b\b\b\b\b\b\b\b\b\b\b\b\b\b\b\b\b\b\b\b\b\b\b\b\b\b\b\b\b\b\b\b\b\b\b\b\b\b\b\b\b\b\b\b\b\b\b\b\b\b\b\b\b\b\b\b\b\b\b\b\b\b\b\b\b\b\b\b\b\b\b\b\b\b\b\b\b\b\b\b\b\b\b\b\b\b\b\b\b\b\b\b\b\b\b\r28/28 [==============================] - 0s 9ms/step - loss: 0.1224 - sparse_categorical_accuracy: 0.9656 - val_loss: 0.6192 - val_sparse_categorical_accuracy: 0.8693\n",
            "Epoch 10/1000\n",
            "27/28 [===========================>..] - ETA: 0s - loss: 0.0862 - sparse_categorical_accuracy: 0.9722"
          ]
        },
        {
          "name": "stderr",
          "output_type": "stream",
          "text": [
            "WARNING:tensorflow:Early stopping conditioned on metric `val_acc` which is not available. Available metrics are: loss,sparse_categorical_accuracy,val_loss,val_sparse_categorical_accuracy\n"
          ]
        },
        {
          "name": "stdout",
          "output_type": "stream",
          "text": [
            "\b\b\b\b\b\b\b\b\b\b\b\b\b\b\b\b\b\b\b\b\b\b\b\b\b\b\b\b\b\b\b\b\b\b\b\b\b\b\b\b\b\b\b\b\b\b\b\b\b\b\b\b\b\b\b\b\b\b\b\b\b\b\b\b\b\b\b\b\b\b\b\b\b\b\b\b\b\b\b\b\b\b\b\b\b\b\b\b\b\b\b\b\b\b\b\b\b\b\b\b\b\r28/28 [==============================] - 0s 8ms/step - loss: 0.0853 - sparse_categorical_accuracy: 0.9725 - val_loss: 0.5467 - val_sparse_categorical_accuracy: 0.9040\n",
            "Epoch 11/1000\n",
            "20/28 [====================>.........] - ETA: 0s - loss: 0.1052 - sparse_categorical_accuracy: 0.9781"
          ]
        },
        {
          "name": "stderr",
          "output_type": "stream",
          "text": [
            "WARNING:tensorflow:Early stopping conditioned on metric `val_acc` which is not available. Available metrics are: loss,sparse_categorical_accuracy,val_loss,val_sparse_categorical_accuracy\n"
          ]
        },
        {
          "name": "stdout",
          "output_type": "stream",
          "text": [
            "\b\b\b\b\b\b\b\b\b\b\b\b\b\b\b\b\b\b\b\b\b\b\b\b\b\b\b\b\b\b\b\b\b\b\b\b\b\b\b\b\b\b\b\b\b\b\b\b\b\b\b\b\b\b\b\b\b\b\b\b\b\b\b\b\b\b\b\b\b\b\b\b\b\b\b\b\b\b\b\b\b\b\b\b\b\b\b\b\b\b\b\b\b\b\b\b\b\b\b\b\b\r28/28 [==============================] - 0s 8ms/step - loss: 0.1194 - sparse_categorical_accuracy: 0.9748 - val_loss: 0.5056 - val_sparse_categorical_accuracy: 0.8853\n",
            "Epoch 12/1000\n",
            "24/28 [========================>.....] - ETA: 0s - loss: 0.0551 - sparse_categorical_accuracy: 0.9909"
          ]
        },
        {
          "name": "stderr",
          "output_type": "stream",
          "text": [
            "WARNING:tensorflow:Early stopping conditioned on metric `val_acc` which is not available. Available metrics are: loss,sparse_categorical_accuracy,val_loss,val_sparse_categorical_accuracy\n"
          ]
        },
        {
          "name": "stdout",
          "output_type": "stream",
          "text": [
            "\b\b\b\b\b\b\b\b\b\b\b\b\b\b\b\b\b\b\b\b\b\b\b\b\b\b\b\b\b\b\b\b\b\b\b\b\b\b\b\b\b\b\b\b\b\b\b\b\b\b\b\b\b\b\b\b\b\b\b\b\b\b\b\b\b\b\b\b\b\b\b\b\b\b\b\b\b\b\b\b\b\b\b\b\b\b\b\b\b\b\b\b\b\b\b\b\b\b\b\b\b\r28/28 [==============================] - 0s 10ms/step - loss: 0.0499 - sparse_categorical_accuracy: 0.9920 - val_loss: 0.5453 - val_sparse_categorical_accuracy: 0.8853\n",
            "Epoch 13/1000\n",
            "26/28 [==========================>...] - ETA: 0s - loss: 0.0252 - sparse_categorical_accuracy: 0.9964"
          ]
        },
        {
          "name": "stderr",
          "output_type": "stream",
          "text": [
            "WARNING:tensorflow:Early stopping conditioned on metric `val_acc` which is not available. Available metrics are: loss,sparse_categorical_accuracy,val_loss,val_sparse_categorical_accuracy\n"
          ]
        },
        {
          "name": "stdout",
          "output_type": "stream",
          "text": [
            "\b\b\b\b\b\b\b\b\b\b\b\b\b\b\b\b\b\b\b\b\b\b\b\b\b\b\b\b\b\b\b\b\b\b\b\b\b\b\b\b\b\b\b\b\b\b\b\b\b\b\b\b\b\b\b\b\b\b\b\b\b\b\b\b\b\b\b\b\b\b\b\b\b\b\b\b\b\b\b\b\b\b\b\b\b\b\b\b\b\b\b\b\b\b\b\b\b\b\b\b\b\r28/28 [==============================] - 0s 10ms/step - loss: 0.0262 - sparse_categorical_accuracy: 0.9954 - val_loss: 0.7675 - val_sparse_categorical_accuracy: 0.8800\n",
            "Epoch 14/1000\n",
            "24/28 [========================>.....] - ETA: 0s - loss: 0.0419 - sparse_categorical_accuracy: 0.9870"
          ]
        },
        {
          "name": "stderr",
          "output_type": "stream",
          "text": [
            "WARNING:tensorflow:Early stopping conditioned on metric `val_acc` which is not available. Available metrics are: loss,sparse_categorical_accuracy,val_loss,val_sparse_categorical_accuracy\n"
          ]
        },
        {
          "name": "stdout",
          "output_type": "stream",
          "text": [
            "\b\b\b\b\b\b\b\b\b\b\b\b\b\b\b\b\b\b\b\b\b\b\b\b\b\b\b\b\b\b\b\b\b\b\b\b\b\b\b\b\b\b\b\b\b\b\b\b\b\b\b\b\b\b\b\b\b\b\b\b\b\b\b\b\b\b\b\b\b\b\b\b\b\b\b\b\b\b\b\b\b\b\b\b\b\b\b\b\b\b\b\b\b\b\b\b\b\b\b\b\b\r28/28 [==============================] - 0s 10ms/step - loss: 0.0404 - sparse_categorical_accuracy: 0.9874 - val_loss: 0.5818 - val_sparse_categorical_accuracy: 0.9013\n",
            "Epoch 15/1000\n",
            "22/28 [======================>.......] - ETA: 0s - loss: 0.0347 - sparse_categorical_accuracy: 0.9858"
          ]
        },
        {
          "name": "stderr",
          "output_type": "stream",
          "text": [
            "WARNING:tensorflow:Early stopping conditioned on metric `val_acc` which is not available. Available metrics are: loss,sparse_categorical_accuracy,val_loss,val_sparse_categorical_accuracy\n"
          ]
        },
        {
          "name": "stdout",
          "output_type": "stream",
          "text": [
            "\b\b\b\b\b\b\b\b\b\b\b\b\b\b\b\b\b\b\b\b\b\b\b\b\b\b\b\b\b\b\b\b\b\b\b\b\b\b\b\b\b\b\b\b\b\b\b\b\b\b\b\b\b\b\b\b\b\b\b\b\b\b\b\b\b\b\b\b\b\b\b\b\b\b\b\b\b\b\b\b\b\b\b\b\b\b\b\b\b\b\b\b\b\b\b\b\b\b\b\b\b\r28/28 [==============================] - 0s 11ms/step - loss: 0.0473 - sparse_categorical_accuracy: 0.9840 - val_loss: 0.8228 - val_sparse_categorical_accuracy: 0.8747\n",
            "Epoch 16/1000\n",
            "22/28 [======================>.......] - ETA: 0s - loss: 0.2975 - sparse_categorical_accuracy: 0.9403"
          ]
        },
        {
          "name": "stderr",
          "output_type": "stream",
          "text": [
            "WARNING:tensorflow:Early stopping conditioned on metric `val_acc` which is not available. Available metrics are: loss,sparse_categorical_accuracy,val_loss,val_sparse_categorical_accuracy\n"
          ]
        },
        {
          "name": "stdout",
          "output_type": "stream",
          "text": [
            "\b\b\b\b\b\b\b\b\b\b\b\b\b\b\b\b\b\b\b\b\b\b\b\b\b\b\b\b\b\b\b\b\b\b\b\b\b\b\b\b\b\b\b\b\b\b\b\b\b\b\b\b\b\b\b\b\b\b\b\b\b\b\b\b\b\b\b\b\b\b\b\b\b\b\b\b\b\b\b\b\b\b\b\b\b\b\b\b\b\b\b\b\b\b\b\b\b\b\b\b\b\r28/28 [==============================] - 0s 11ms/step - loss: 0.2774 - sparse_categorical_accuracy: 0.9393 - val_loss: 0.5132 - val_sparse_categorical_accuracy: 0.8720\n",
            "Epoch 17/1000\n",
            "24/28 [========================>.....] - ETA: 0s - loss: 0.0537 - sparse_categorical_accuracy: 0.9870"
          ]
        },
        {
          "name": "stderr",
          "output_type": "stream",
          "text": [
            "WARNING:tensorflow:Early stopping conditioned on metric `val_acc` which is not available. Available metrics are: loss,sparse_categorical_accuracy,val_loss,val_sparse_categorical_accuracy\n"
          ]
        },
        {
          "name": "stdout",
          "output_type": "stream",
          "text": [
            "\b\b\b\b\b\b\b\b\b\b\b\b\b\b\b\b\b\b\b\b\b\b\b\b\b\b\b\b\b\b\b\b\b\b\b\b\b\b\b\b\b\b\b\b\b\b\b\b\b\b\b\b\b\b\b\b\b\b\b\b\b\b\b\b\b\b\b\b\b\b\b\b\b\b\b\b\b\b\b\b\b\b\b\b\b\b\b\b\b\b\b\b\b\b\b\b\b\b\b\b\b\r28/28 [==============================] - 0s 11ms/step - loss: 0.0497 - sparse_categorical_accuracy: 0.9874 - val_loss: 0.5124 - val_sparse_categorical_accuracy: 0.9067\n",
            "Epoch 18/1000\n",
            "23/28 [=======================>......] - ETA: 0s - loss: 0.0079 - sparse_categorical_accuracy: 1.0000"
          ]
        },
        {
          "name": "stderr",
          "output_type": "stream",
          "text": [
            "WARNING:tensorflow:Early stopping conditioned on metric `val_acc` which is not available. Available metrics are: loss,sparse_categorical_accuracy,val_loss,val_sparse_categorical_accuracy\n"
          ]
        },
        {
          "name": "stdout",
          "output_type": "stream",
          "text": [
            "\b\b\b\b\b\b\b\b\b\b\b\b\b\b\b\b\b\b\b\b\b\b\b\b\b\b\b\b\b\b\b\b\b\b\b\b\b\b\b\b\b\b\b\b\b\b\b\b\b\b\b\b\b\b\b\b\b\b\b\b\b\b\b\b\b\b\b\b\b\b\b\b\b\b\b\b\b\b\b\b\b\b\b\b\b\b\b\b\b\b\b\b\b\b\b\b\b\b\b\b\b\r28/28 [==============================] - 0s 11ms/step - loss: 0.0083 - sparse_categorical_accuracy: 0.9989 - val_loss: 0.5705 - val_sparse_categorical_accuracy: 0.8747\n",
            "Epoch 19/1000\n",
            "23/28 [=======================>......] - ETA: 0s - loss: 0.0018 - sparse_categorical_accuracy: 1.0000"
          ]
        },
        {
          "name": "stderr",
          "output_type": "stream",
          "text": [
            "WARNING:tensorflow:Early stopping conditioned on metric `val_acc` which is not available. Available metrics are: loss,sparse_categorical_accuracy,val_loss,val_sparse_categorical_accuracy\n"
          ]
        },
        {
          "name": "stdout",
          "output_type": "stream",
          "text": [
            "\b\b\b\b\b\b\b\b\b\b\b\b\b\b\b\b\b\b\b\b\b\b\b\b\b\b\b\b\b\b\b\b\b\b\b\b\b\b\b\b\b\b\b\b\b\b\b\b\b\b\b\b\b\b\b\b\b\b\b\b\b\b\b\b\b\b\b\b\b\b\b\b\b\b\b\b\b\b\b\b\b\b\b\b\b\b\b\b\b\b\b\b\b\b\b\b\b\b\b\b\b\r28/28 [==============================] - 0s 9ms/step - loss: 0.0031 - sparse_categorical_accuracy: 0.9989 - val_loss: 0.5973 - val_sparse_categorical_accuracy: 0.8960\n",
            "Epoch 20/1000\n",
            "27/28 [===========================>..] - ETA: 0s - loss: 0.0145 - sparse_categorical_accuracy: 0.9977"
          ]
        },
        {
          "name": "stderr",
          "output_type": "stream",
          "text": [
            "WARNING:tensorflow:Early stopping conditioned on metric `val_acc` which is not available. Available metrics are: loss,sparse_categorical_accuracy,val_loss,val_sparse_categorical_accuracy\n"
          ]
        },
        {
          "name": "stdout",
          "output_type": "stream",
          "text": [
            "\b\b\b\b\b\b\b\b\b\b\b\b\b\b\b\b\b\b\b\b\b\b\b\b\b\b\b\b\b\b\b\b\b\b\b\b\b\b\b\b\b\b\b\b\b\b\b\b\b\b\b\b\b\b\b\b\b\b\b\b\b\b\b\b\b\b\b\b\b\b\b\b\b\b\b\b\b\b\b\b\b\b\b\b\b\b\b\b\b\b\b\b\b\b\b\b\b\b\b\b\b\r28/28 [==============================] - 0s 9ms/step - loss: 0.0144 - sparse_categorical_accuracy: 0.9977 - val_loss: 0.6262 - val_sparse_categorical_accuracy: 0.8907\n",
            "Epoch 21/1000\n",
            "26/28 [==========================>...] - ETA: 0s - loss: 0.0205 - sparse_categorical_accuracy: 0.9940"
          ]
        },
        {
          "name": "stderr",
          "output_type": "stream",
          "text": [
            "WARNING:tensorflow:Early stopping conditioned on metric `val_acc` which is not available. Available metrics are: loss,sparse_categorical_accuracy,val_loss,val_sparse_categorical_accuracy\n"
          ]
        },
        {
          "name": "stdout",
          "output_type": "stream",
          "text": [
            "\b\b\b\b\b\b\b\b\b\b\b\b\b\b\b\b\b\b\b\b\b\b\b\b\b\b\b\b\b\b\b\b\b\b\b\b\b\b\b\b\b\b\b\b\b\b\b\b\b\b\b\b\b\b\b\b\b\b\b\b\b\b\b\b\b\b\b\b\b\b\b\b\b\b\b\b\b\b\b\b\b\b\b\b\b\b\b\b\b\b\b\b\b\b\b\b\b\b\b\b\b\r28/28 [==============================] - 0s 8ms/step - loss: 0.0217 - sparse_categorical_accuracy: 0.9931 - val_loss: 0.4824 - val_sparse_categorical_accuracy: 0.9013\n",
            "Epoch 22/1000\n",
            "28/28 [==============================] - ETA: 0s - loss: 0.0249 - sparse_categorical_accuracy: 0.9920"
          ]
        },
        {
          "name": "stderr",
          "output_type": "stream",
          "text": [
            "WARNING:tensorflow:Early stopping conditioned on metric `val_acc` which is not available. Available metrics are: loss,sparse_categorical_accuracy,val_loss,val_sparse_categorical_accuracy\n"
          ]
        },
        {
          "name": "stdout",
          "output_type": "stream",
          "text": [
            "\b\b\b\b\b\b\b\b\b\b\b\b\b\b\b\b\b\b\b\b\b\b\b\b\b\b\b\b\b\b\b\b\b\b\b\b\b\b\b\b\b\b\b\b\b\b\b\b\b\b\b\b\b\b\b\b\b\b\b\b\b\b\b\b\b\b\b\b\b\b\b\b\b\b\b\b\b\b\b\b\b\b\b\b\b\b\b\b\b\b\b\b\b\b\b\b\b\b\b\b\b\r28/28 [==============================] - 0s 9ms/step - loss: 0.0249 - sparse_categorical_accuracy: 0.9920 - val_loss: 0.7043 - val_sparse_categorical_accuracy: 0.8693\n",
            "Epoch 23/1000\n",
            "28/28 [==============================] - ETA: 0s - loss: 0.0327 - sparse_categorical_accuracy: 0.9908"
          ]
        },
        {
          "name": "stderr",
          "output_type": "stream",
          "text": [
            "WARNING:tensorflow:Early stopping conditioned on metric `val_acc` which is not available. Available metrics are: loss,sparse_categorical_accuracy,val_loss,val_sparse_categorical_accuracy\n"
          ]
        },
        {
          "name": "stdout",
          "output_type": "stream",
          "text": [
            "\b\b\b\b\b\b\b\b\b\b\b\b\b\b\b\b\b\b\b\b\b\b\b\b\b\b\b\b\b\b\b\b\b\b\b\b\b\b\b\b\b\b\b\b\b\b\b\b\b\b\b\b\b\b\b\b\b\b\b\b\b\b\b\b\b\b\b\b\b\b\b\b\b\b\b\b\b\b\b\b\b\b\b\b\b\b\b\b\b\b\b\b\b\b\b\b\b\b\b\b\b\r28/28 [==============================] - 0s 8ms/step - loss: 0.0327 - sparse_categorical_accuracy: 0.9908 - val_loss: 0.6354 - val_sparse_categorical_accuracy: 0.8667\n",
            "Epoch 24/1000\n",
            "27/28 [===========================>..] - ETA: 0s - loss: 0.0862 - sparse_categorical_accuracy: 0.9780"
          ]
        },
        {
          "name": "stderr",
          "output_type": "stream",
          "text": [
            "WARNING:tensorflow:Early stopping conditioned on metric `val_acc` which is not available. Available metrics are: loss,sparse_categorical_accuracy,val_loss,val_sparse_categorical_accuracy\n"
          ]
        },
        {
          "name": "stdout",
          "output_type": "stream",
          "text": [
            "\b\b\b\b\b\b\b\b\b\b\b\b\b\b\b\b\b\b\b\b\b\b\b\b\b\b\b\b\b\b\b\b\b\b\b\b\b\b\b\b\b\b\b\b\b\b\b\b\b\b\b\b\b\b\b\b\b\b\b\b\b\b\b\b\b\b\b\b\b\b\b\b\b\b\b\b\b\b\b\b\b\b\b\b\b\b\b\b\b\b\b\b\b\b\b\b\b\b\b\b\b\r28/28 [==============================] - 0s 9ms/step - loss: 0.0854 - sparse_categorical_accuracy: 0.9782 - val_loss: 0.5060 - val_sparse_categorical_accuracy: 0.8853\n",
            "Epoch 25/1000\n",
            "28/28 [==============================] - ETA: 0s - loss: 0.0191 - sparse_categorical_accuracy: 0.9966"
          ]
        },
        {
          "name": "stderr",
          "output_type": "stream",
          "text": [
            "WARNING:tensorflow:Early stopping conditioned on metric `val_acc` which is not available. Available metrics are: loss,sparse_categorical_accuracy,val_loss,val_sparse_categorical_accuracy\n"
          ]
        },
        {
          "name": "stdout",
          "output_type": "stream",
          "text": [
            "\b\b\b\b\b\b\b\b\b\b\b\b\b\b\b\b\b\b\b\b\b\b\b\b\b\b\b\b\b\b\b\b\b\b\b\b\b\b\b\b\b\b\b\b\b\b\b\b\b\b\b\b\b\b\b\b\b\b\b\b\b\b\b\b\b\b\b\b\b\b\b\b\b\b\b\b\b\b\b\b\b\b\b\b\b\b\b\b\b\b\b\b\b\b\b\b\b\b\b\b\b\r28/28 [==============================] - 0s 9ms/step - loss: 0.0191 - sparse_categorical_accuracy: 0.9966 - val_loss: 0.5201 - val_sparse_categorical_accuracy: 0.9120\n",
            "Epoch 26/1000\n",
            "28/28 [==============================] - ETA: 0s - loss: 0.0016 - sparse_categorical_accuracy: 1.0000"
          ]
        },
        {
          "name": "stderr",
          "output_type": "stream",
          "text": [
            "WARNING:tensorflow:Early stopping conditioned on metric `val_acc` which is not available. Available metrics are: loss,sparse_categorical_accuracy,val_loss,val_sparse_categorical_accuracy\n"
          ]
        },
        {
          "name": "stdout",
          "output_type": "stream",
          "text": [
            "\b\b\b\b\b\b\b\b\b\b\b\b\b\b\b\b\b\b\b\b\b\b\b\b\b\b\b\b\b\b\b\b\b\b\b\b\b\b\b\b\b\b\b\b\b\b\b\b\b\b\b\b\b\b\b\b\b\b\b\b\b\b\b\b\b\b\b\b\b\b\b\b\b\b\b\b\b\b\b\b\b\b\b\b\b\b\b\b\b\b\b\b\b\b\b\b\b\b\b\b\b\r28/28 [==============================] - 0s 9ms/step - loss: 0.0016 - sparse_categorical_accuracy: 1.0000 - val_loss: 0.5599 - val_sparse_categorical_accuracy: 0.9013\n",
            "Epoch 27/1000\n",
            "28/28 [==============================] - ETA: 0s - loss: 4.1490e-04 - sparse_categorical_accuracy: 1.0000"
          ]
        },
        {
          "name": "stderr",
          "output_type": "stream",
          "text": [
            "WARNING:tensorflow:Early stopping conditioned on metric `val_acc` which is not available. Available metrics are: loss,sparse_categorical_accuracy,val_loss,val_sparse_categorical_accuracy\n"
          ]
        },
        {
          "name": "stdout",
          "output_type": "stream",
          "text": [
            "\b\b\b\b\b\b\b\b\b\b\b\b\b\b\b\b\b\b\b\b\b\b\b\b\b\b\b\b\b\b\b\b\b\b\b\b\b\b\b\b\b\b\b\b\b\b\b\b\b\b\b\b\b\b\b\b\b\b\b\b\b\b\b\b\b\b\b\b\b\b\b\b\b\b\b\b\b\b\b\b\b\b\b\b\b\b\b\b\b\b\b\b\b\b\b\b\b\b\b\b\b\b\b\b\b\r28/28 [==============================] - 0s 9ms/step - loss: 4.1490e-04 - sparse_categorical_accuracy: 1.0000 - val_loss: 0.5911 - val_sparse_categorical_accuracy: 0.8987\n",
            "Epoch 28/1000\n",
            "28/28 [==============================] - ETA: 0s - loss: 1.7194e-04 - sparse_categorical_accuracy: 1.0000"
          ]
        },
        {
          "name": "stderr",
          "output_type": "stream",
          "text": [
            "WARNING:tensorflow:Early stopping conditioned on metric `val_acc` which is not available. Available metrics are: loss,sparse_categorical_accuracy,val_loss,val_sparse_categorical_accuracy\n"
          ]
        },
        {
          "name": "stdout",
          "output_type": "stream",
          "text": [
            "\b\b\b\b\b\b\b\b\b\b\b\b\b\b\b\b\b\b\b\b\b\b\b\b\b\b\b\b\b\b\b\b\b\b\b\b\b\b\b\b\b\b\b\b\b\b\b\b\b\b\b\b\b\b\b\b\b\b\b\b\b\b\b\b\b\b\b\b\b\b\b\b\b\b\b\b\b\b\b\b\b\b\b\b\b\b\b\b\b\b\b\b\b\b\b\b\b\b\b\b\b\b\b\b\b\r28/28 [==============================] - 0s 9ms/step - loss: 1.7194e-04 - sparse_categorical_accuracy: 1.0000 - val_loss: 0.5872 - val_sparse_categorical_accuracy: 0.8987\n",
            "Epoch 29/1000\n",
            "27/28 [===========================>..] - ETA: 0s - loss: 1.2231e-04 - sparse_categorical_accuracy: 1.0000"
          ]
        },
        {
          "name": "stderr",
          "output_type": "stream",
          "text": [
            "WARNING:tensorflow:Early stopping conditioned on metric `val_acc` which is not available. Available metrics are: loss,sparse_categorical_accuracy,val_loss,val_sparse_categorical_accuracy\n"
          ]
        },
        {
          "name": "stdout",
          "output_type": "stream",
          "text": [
            "\b\b\b\b\b\b\b\b\b\b\b\b\b\b\b\b\b\b\b\b\b\b\b\b\b\b\b\b\b\b\b\b\b\b\b\b\b\b\b\b\b\b\b\b\b\b\b\b\b\b\b\b\b\b\b\b\b\b\b\b\b\b\b\b\b\b\b\b\b\b\b\b\b\b\b\b\b\b\b\b\b\b\b\b\b\b\b\b\b\b\b\b\b\b\b\b\b\b\b\b\b\b\b\b\b\r28/28 [==============================] - 0s 8ms/step - loss: 1.2156e-04 - sparse_categorical_accuracy: 1.0000 - val_loss: 0.5913 - val_sparse_categorical_accuracy: 0.8987\n",
            "Epoch 30/1000\n",
            "27/28 [===========================>..] - ETA: 0s - loss: 9.7835e-05 - sparse_categorical_accuracy: 1.0000"
          ]
        },
        {
          "name": "stderr",
          "output_type": "stream",
          "text": [
            "WARNING:tensorflow:Early stopping conditioned on metric `val_acc` which is not available. Available metrics are: loss,sparse_categorical_accuracy,val_loss,val_sparse_categorical_accuracy\n"
          ]
        },
        {
          "name": "stdout",
          "output_type": "stream",
          "text": [
            "\b\b\b\b\b\b\b\b\b\b\b\b\b\b\b\b\b\b\b\b\b\b\b\b\b\b\b\b\b\b\b\b\b\b\b\b\b\b\b\b\b\b\b\b\b\b\b\b\b\b\b\b\b\b\b\b\b\b\b\b\b\b\b\b\b\b\b\b\b\b\b\b\b\b\b\b\b\b\b\b\b\b\b\b\b\b\b\b\b\b\b\b\b\b\b\b\b\b\b\b\b\b\b\b\b\r28/28 [==============================] - 0s 8ms/step - loss: 9.7948e-05 - sparse_categorical_accuracy: 1.0000 - val_loss: 0.5957 - val_sparse_categorical_accuracy: 0.8987\n",
            "Epoch 31/1000\n",
            "20/28 [====================>.........] - ETA: 0s - loss: 8.4124e-05 - sparse_categorical_accuracy: 1.0000"
          ]
        },
        {
          "name": "stderr",
          "output_type": "stream",
          "text": [
            "WARNING:tensorflow:Early stopping conditioned on metric `val_acc` which is not available. Available metrics are: loss,sparse_categorical_accuracy,val_loss,val_sparse_categorical_accuracy\n"
          ]
        },
        {
          "name": "stdout",
          "output_type": "stream",
          "text": [
            "\b\b\b\b\b\b\b\b\b\b\b\b\b\b\b\b\b\b\b\b\b\b\b\b\b\b\b\b\b\b\b\b\b\b\b\b\b\b\b\b\b\b\b\b\b\b\b\b\b\b\b\b\b\b\b\b\b\b\b\b\b\b\b\b\b\b\b\b\b\b\b\b\b\b\b\b\b\b\b\b\b\b\b\b\b\b\b\b\b\b\b\b\b\b\b\b\b\b\b\b\b\b\b\b\b\r28/28 [==============================] - 0s 9ms/step - loss: 8.3420e-05 - sparse_categorical_accuracy: 1.0000 - val_loss: 0.6000 - val_sparse_categorical_accuracy: 0.8987\n",
            "Epoch 32/1000\n",
            "27/28 [===========================>..] - ETA: 0s - loss: 7.2534e-05 - sparse_categorical_accuracy: 1.0000"
          ]
        },
        {
          "name": "stderr",
          "output_type": "stream",
          "text": [
            "WARNING:tensorflow:Early stopping conditioned on metric `val_acc` which is not available. Available metrics are: loss,sparse_categorical_accuracy,val_loss,val_sparse_categorical_accuracy\n"
          ]
        },
        {
          "name": "stdout",
          "output_type": "stream",
          "text": [
            "\b\b\b\b\b\b\b\b\b\b\b\b\b\b\b\b\b\b\b\b\b\b\b\b\b\b\b\b\b\b\b\b\b\b\b\b\b\b\b\b\b\b\b\b\b\b\b\b\b\b\b\b\b\b\b\b\b\b\b\b\b\b\b\b\b\b\b\b\b\b\b\b\b\b\b\b\b\b\b\b\b\b\b\b\b\b\b\b\b\b\b\b\b\b\b\b\b\b\b\b\b\b\b\b\b\r28/28 [==============================] - 0s 8ms/step - loss: 7.2223e-05 - sparse_categorical_accuracy: 1.0000 - val_loss: 0.6045 - val_sparse_categorical_accuracy: 0.8987\n",
            "Epoch 33/1000\n",
            "26/28 [==========================>...] - ETA: 0s - loss: 6.3794e-05 - sparse_categorical_accuracy: 1.0000"
          ]
        },
        {
          "name": "stderr",
          "output_type": "stream",
          "text": [
            "WARNING:tensorflow:Early stopping conditioned on metric `val_acc` which is not available. Available metrics are: loss,sparse_categorical_accuracy,val_loss,val_sparse_categorical_accuracy\n"
          ]
        },
        {
          "name": "stdout",
          "output_type": "stream",
          "text": [
            "\b\b\b\b\b\b\b\b\b\b\b\b\b\b\b\b\b\b\b\b\b\b\b\b\b\b\b\b\b\b\b\b\b\b\b\b\b\b\b\b\b\b\b\b\b\b\b\b\b\b\b\b\b\b\b\b\b\b\b\b\b\b\b\b\b\b\b\b\b\b\b\b\b\b\b\b\b\b\b\b\b\b\b\b\b\b\b\b\b\b\b\b\b\b\b\b\b\b\b\b\b\b\b\b\b\r28/28 [==============================] - 0s 8ms/step - loss: 6.3021e-05 - sparse_categorical_accuracy: 1.0000 - val_loss: 0.6102 - val_sparse_categorical_accuracy: 0.8987\n",
            "Epoch 34/1000\n",
            "28/28 [==============================] - ETA: 0s - loss: 5.5717e-05 - sparse_categorical_accuracy: 1.0000"
          ]
        },
        {
          "name": "stderr",
          "output_type": "stream",
          "text": [
            "WARNING:tensorflow:Early stopping conditioned on metric `val_acc` which is not available. Available metrics are: loss,sparse_categorical_accuracy,val_loss,val_sparse_categorical_accuracy\n"
          ]
        },
        {
          "name": "stdout",
          "output_type": "stream",
          "text": [
            "\b\b\b\b\b\b\b\b\b\b\b\b\b\b\b\b\b\b\b\b\b\b\b\b\b\b\b\b\b\b\b\b\b\b\b\b\b\b\b\b\b\b\b\b\b\b\b\b\b\b\b\b\b\b\b\b\b\b\b\b\b\b\b\b\b\b\b\b\b\b\b\b\b\b\b\b\b\b\b\b\b\b\b\b\b\b\b\b\b\b\b\b\b\b\b\b\b\b\b\b\b\b\b\b\b\r28/28 [==============================] - 0s 9ms/step - loss: 5.5717e-05 - sparse_categorical_accuracy: 1.0000 - val_loss: 0.6139 - val_sparse_categorical_accuracy: 0.8987\n",
            "Epoch 35/1000\n",
            "27/28 [===========================>..] - ETA: 0s - loss: 4.8756e-05 - sparse_categorical_accuracy: 1.0000"
          ]
        },
        {
          "name": "stderr",
          "output_type": "stream",
          "text": [
            "WARNING:tensorflow:Early stopping conditioned on metric `val_acc` which is not available. Available metrics are: loss,sparse_categorical_accuracy,val_loss,val_sparse_categorical_accuracy\n"
          ]
        },
        {
          "name": "stdout",
          "output_type": "stream",
          "text": [
            "\b\b\b\b\b\b\b\b\b\b\b\b\b\b\b\b\b\b\b\b\b\b\b\b\b\b\b\b\b\b\b\b\b\b\b\b\b\b\b\b\b\b\b\b\b\b\b\b\b\b\b\b\b\b\b\b\b\b\b\b\b\b\b\b\b\b\b\b\b\b\b\b\b\b\b\b\b\b\b\b\b\b\b\b\b\b\b\b\b\b\b\b\b\b\b\b\b\b\b\b\b\b\b\b\b\r28/28 [==============================] - 0s 9ms/step - loss: 4.8795e-05 - sparse_categorical_accuracy: 1.0000 - val_loss: 0.6184 - val_sparse_categorical_accuracy: 0.8987\n",
            "Epoch 36/1000\n",
            "28/28 [==============================] - ETA: 0s - loss: 4.3625e-05 - sparse_categorical_accuracy: 1.0000"
          ]
        },
        {
          "name": "stderr",
          "output_type": "stream",
          "text": [
            "WARNING:tensorflow:Early stopping conditioned on metric `val_acc` which is not available. Available metrics are: loss,sparse_categorical_accuracy,val_loss,val_sparse_categorical_accuracy\n"
          ]
        },
        {
          "name": "stdout",
          "output_type": "stream",
          "text": [
            "\b\b\b\b\b\b\b\b\b\b\b\b\b\b\b\b\b\b\b\b\b\b\b\b\b\b\b\b\b\b\b\b\b\b\b\b\b\b\b\b\b\b\b\b\b\b\b\b\b\b\b\b\b\b\b\b\b\b\b\b\b\b\b\b\b\b\b\b\b\b\b\b\b\b\b\b\b\b\b\b\b\b\b\b\b\b\b\b\b\b\b\b\b\b\b\b\b\b\b\b\b\b\b\b\b\r28/28 [==============================] - 0s 9ms/step - loss: 4.3625e-05 - sparse_categorical_accuracy: 1.0000 - val_loss: 0.6214 - val_sparse_categorical_accuracy: 0.9013\n",
            "Epoch 37/1000\n",
            "27/28 [===========================>..] - ETA: 0s - loss: 3.8803e-05 - sparse_categorical_accuracy: 1.0000"
          ]
        },
        {
          "name": "stderr",
          "output_type": "stream",
          "text": [
            "WARNING:tensorflow:Early stopping conditioned on metric `val_acc` which is not available. Available metrics are: loss,sparse_categorical_accuracy,val_loss,val_sparse_categorical_accuracy\n"
          ]
        },
        {
          "name": "stdout",
          "output_type": "stream",
          "text": [
            "\b\b\b\b\b\b\b\b\b\b\b\b\b\b\b\b\b\b\b\b\b\b\b\b\b\b\b\b\b\b\b\b\b\b\b\b\b\b\b\b\b\b\b\b\b\b\b\b\b\b\b\b\b\b\b\b\b\b\b\b\b\b\b\b\b\b\b\b\b\b\b\b\b\b\b\b\b\b\b\b\b\b\b\b\b\b\b\b\b\b\b\b\b\b\b\b\b\b\b\b\b\b\b\b\b\r28/28 [==============================] - 0s 9ms/step - loss: 3.8551e-05 - sparse_categorical_accuracy: 1.0000 - val_loss: 0.6219 - val_sparse_categorical_accuracy: 0.9013\n",
            "Epoch 38/1000\n",
            "19/28 [===================>..........] - ETA: 0s - loss: 3.2019e-05 - sparse_categorical_accuracy: 1.0000"
          ]
        },
        {
          "name": "stderr",
          "output_type": "stream",
          "text": [
            "WARNING:tensorflow:Early stopping conditioned on metric `val_acc` which is not available. Available metrics are: loss,sparse_categorical_accuracy,val_loss,val_sparse_categorical_accuracy\n"
          ]
        },
        {
          "name": "stdout",
          "output_type": "stream",
          "text": [
            "\b\b\b\b\b\b\b\b\b\b\b\b\b\b\b\b\b\b\b\b\b\b\b\b\b\b\b\b\b\b\b\b\b\b\b\b\b\b\b\b\b\b\b\b\b\b\b\b\b\b\b\b\b\b\b\b\b\b\b\b\b\b\b\b\b\b\b\b\b\b\b\b\b\b\b\b\b\b\b\b\b\b\b\b\b\b\b\b\b\b\b\b\b\b\b\b\b\b\b\b\b\b\b\b\b\r28/28 [==============================] - 0s 9ms/step - loss: 3.4844e-05 - sparse_categorical_accuracy: 1.0000 - val_loss: 0.6237 - val_sparse_categorical_accuracy: 0.9013\n",
            "Epoch 39/1000\n",
            "20/28 [====================>.........] - ETA: 0s - loss: 2.8389e-05 - sparse_categorical_accuracy: 1.0000"
          ]
        },
        {
          "name": "stderr",
          "output_type": "stream",
          "text": [
            "WARNING:tensorflow:Early stopping conditioned on metric `val_acc` which is not available. Available metrics are: loss,sparse_categorical_accuracy,val_loss,val_sparse_categorical_accuracy\n"
          ]
        },
        {
          "name": "stdout",
          "output_type": "stream",
          "text": [
            "\b\b\b\b\b\b\b\b\b\b\b\b\b\b\b\b\b\b\b\b\b\b\b\b\b\b\b\b\b\b\b\b\b\b\b\b\b\b\b\b\b\b\b\b\b\b\b\b\b\b\b\b\b\b\b\b\b\b\b\b\b\b\b\b\b\b\b\b\b\b\b\b\b\b\b\b\b\b\b\b\b\b\b\b\b\b\b\b\b\b\b\b\b\b\b\b\b\b\b\b\b\b\b\b\b\r28/28 [==============================] - 0s 8ms/step - loss: 3.1915e-05 - sparse_categorical_accuracy: 1.0000 - val_loss: 0.6246 - val_sparse_categorical_accuracy: 0.9013\n",
            "Epoch 40/1000\n",
            "28/28 [==============================] - ETA: 0s - loss: 2.8939e-05 - sparse_categorical_accuracy: 1.0000"
          ]
        },
        {
          "name": "stderr",
          "output_type": "stream",
          "text": [
            "WARNING:tensorflow:Early stopping conditioned on metric `val_acc` which is not available. Available metrics are: loss,sparse_categorical_accuracy,val_loss,val_sparse_categorical_accuracy\n"
          ]
        },
        {
          "name": "stdout",
          "output_type": "stream",
          "text": [
            "\b\b\b\b\b\b\b\b\b\b\b\b\b\b\b\b\b\b\b\b\b\b\b\b\b\b\b\b\b\b\b\b\b\b\b\b\b\b\b\b\b\b\b\b\b\b\b\b\b\b\b\b\b\b\b\b\b\b\b\b\b\b\b\b\b\b\b\b\b\b\b\b\b\b\b\b\b\b\b\b\b\b\b\b\b\b\b\b\b\b\b\b\b\b\b\b\b\b\b\b\b\b\b\b\b\r28/28 [==============================] - 0s 8ms/step - loss: 2.8939e-05 - sparse_categorical_accuracy: 1.0000 - val_loss: 0.6273 - val_sparse_categorical_accuracy: 0.9013\n",
            "Epoch 41/1000\n",
            "20/28 [====================>.........] - ETA: 0s - loss: 2.4087e-05 - sparse_categorical_accuracy: 1.0000"
          ]
        },
        {
          "name": "stderr",
          "output_type": "stream",
          "text": [
            "WARNING:tensorflow:Early stopping conditioned on metric `val_acc` which is not available. Available metrics are: loss,sparse_categorical_accuracy,val_loss,val_sparse_categorical_accuracy\n"
          ]
        },
        {
          "name": "stdout",
          "output_type": "stream",
          "text": [
            "\b\b\b\b\b\b\b\b\b\b\b\b\b\b\b\b\b\b\b\b\b\b\b\b\b\b\b\b\b\b\b\b\b\b\b\b\b\b\b\b\b\b\b\b\b\b\b\b\b\b\b\b\b\b\b\b\b\b\b\b\b\b\b\b\b\b\b\b\b\b\b\b\b\b\b\b\b\b\b\b\b\b\b\b\b\b\b\b\b\b\b\b\b\b\b\b\b\b\b\b\b\b\b\b\b\r28/28 [==============================] - 0s 9ms/step - loss: 2.6556e-05 - sparse_categorical_accuracy: 1.0000 - val_loss: 0.6282 - val_sparse_categorical_accuracy: 0.9040\n"
          ]
        }
      ],
      "source": [
        "es1 = EarlyStopping(patience=20, monitor=\"val_acc\", mode=\"auto\")\n",
        "es2 = EarlyStopping(patience=20, monitor=\"val_loss\", mode=\"auto\")\n",
        "\n",
        "#The neural network will stop fitting if it gets 20 epochs without converge\n",
        "\n",
        "history = model.fit(x=X_train,\n",
        "                    y=y_train,\n",
        "                    epochs=1000,\n",
        "                    validation_split=0.3,\n",
        "                    callbacks=[es1, es2])"
      ]
    },
    {
      "cell_type": "markdown",
      "metadata": {
        "id": "PJzrWvK-YAec"
      },
      "source": [
        "Save the model"
      ]
    },
    {
      "cell_type": "code",
      "execution_count": null,
      "metadata": {
        "colab": {
          "base_uri": "https://localhost:8080/"
        },
        "id": "EJS1yxkeX_ih",
        "outputId": "e79808fa-6afd-4f23-a7bd-f3732332b822"
      },
      "outputs": [
        {
          "name": "stderr",
          "output_type": "stream",
          "text": [
            "/usr/local/lib/python3.10/dist-packages/keras/src/engine/training.py:3000: UserWarning: You are saving your model as an HDF5 file via `model.save()`. This file format is considered legacy. We recommend using instead the native Keras format, e.g. `model.save('my_model.keras')`.\n",
            "  saving_api.save_model(\n"
          ]
        }
      ],
      "source": [
        "model.save('./complete_model.h5')"
      ]
    },
    {
      "cell_type": "code",
      "execution_count": null,
      "metadata": {
        "colab": {
          "base_uri": "https://localhost:8080/"
        },
        "id": "tDT4fdLWXwdb",
        "outputId": "d823ea49-ed4c-48cd-e759-7476ee57753f"
      },
      "outputs": [
        {
          "name": "stdout",
          "output_type": "stream",
          "text": [
            "10/10 [==============================] - 0s 7ms/step\n",
            "Accuracy: 0.9326923076923077\n",
            "Classification Report:\n",
            "              precision    recall  f1-score   support\n",
            "\n",
            "           0       0.91      1.00      0.95        10\n",
            "           1       0.60      1.00      0.75         3\n",
            "           2       0.89      0.67      0.76        12\n",
            "           3       0.88      1.00      0.93        14\n",
            "           4       1.00      0.91      0.95        11\n",
            "           5       0.85      1.00      0.92        11\n",
            "           6       1.00      0.91      0.95        11\n",
            "           7       1.00      0.89      0.94        18\n",
            "           8       0.86      0.92      0.89        13\n",
            "           9       0.93      0.93      0.93        15\n",
            "          10       1.00      1.00      1.00        11\n",
            "          11       1.00      0.94      0.97        16\n",
            "          12       1.00      1.00      1.00        15\n",
            "          13       0.86      0.92      0.89        13\n",
            "          14       0.92      0.92      0.92        12\n",
            "          15       1.00      0.91      0.95        11\n",
            "          16       1.00      1.00      1.00        12\n",
            "          17       1.00      1.00      1.00        14\n",
            "          18       0.89      0.80      0.84        10\n",
            "          19       1.00      1.00      1.00        11\n",
            "          20       0.88      0.88      0.88         8\n",
            "          21       0.92      1.00      0.96        12\n",
            "          22       0.88      0.88      0.88         8\n",
            "          23       0.80      0.80      0.80        10\n",
            "          24       0.93      0.93      0.93        15\n",
            "          25       1.00      1.00      1.00        16\n",
            "\n",
            "    accuracy                           0.93       312\n",
            "   macro avg       0.92      0.93      0.92       312\n",
            "weighted avg       0.94      0.93      0.93       312\n",
            "\n"
          ]
        }
      ],
      "source": [
        "\n",
        "model = tf.keras.models.load_model('/content/complete_model.h5')\n",
        "\n",
        "Y_pred = model.predict(X_test)\n",
        "Y_pred = np.argmax(Y_pred, axis=1)\n",
        "\n",
        "\n",
        "# Calculate accuracy\n",
        "accuracy = accuracy_score(y_test , Y_pred )\n",
        "\n",
        "# Generate confusion matrix\n",
        "confusion_mtx = confusion_matrix(y_test , Y_pred)\n",
        "\n",
        "# Print classification report\n",
        "classification_rep = classification_report(y_test , Y_pred)\n",
        "\n",
        "# Print accuracy and confusion matrix\n",
        "print(f\"Accuracy: {accuracy}\")\n",
        "print(f\"Classification Report:\\n{classification_rep}\")\n"
      ]
    },
    {
      "cell_type": "code",
      "execution_count": null,
      "metadata": {
        "colab": {
          "base_uri": "https://localhost:8080/",
          "height": 718
        },
        "id": "ep9YZkK6aHcD",
        "outputId": "1c945734-c601-47c6-bd7b-25f87244875d"
      },
      "outputs": [
        {
          "data": {
            "image/png": "[encoded data removed]",
            "text/plain": [
              "<Figure size 1000x800 with 2 Axes>"
            ]
          },
          "metadata": {},
          "output_type": "display_data"
        }
      ],
      "source": [
        "\n",
        "# Define class labels (assuming you have 26 classes for letters)\n",
        "class_names = [chr(ord('a') + i) for i in range(26)]\n",
        "\n",
        "# Create a figure and set the title\n",
        "plt.figure(figsize=(10, 8))\n",
        "plt.title(\"Confusion Matrix\")\n",
        "\n",
        "# Use seaborn to create a heatmap of the confusion matrix\n",
        "sns.heatmap(confusion_mtx, annot=True, fmt='d', cmap='Blues', xticklabels=class_names, yticklabels=class_names)\n",
        "\n",
        "# Add labels and adjust layout\n",
        "plt.xlabel(\"Predicted\")\n",
        "plt.ylabel(\"True\")\n",
        "plt.show()\n"
      ]
    },
    {
      "cell_type": "code",
      "execution_count": null,
      "metadata": {
        "id": "dmy-8im7dWcp"
      },
      "outputs": [],
      "source": [
        "from google.colab.patches import cv2_imshow"
      ]
    },
    {
      "cell_type": "code",
      "execution_count": null,
      "metadata": {
        "id": "AfswYscdd3oz"
      },
      "outputs": [],
      "source": [
        "def resize_with_appearance_preservation(image_path, target_height, target_width):\n",
        "    # Load the image\n",
        "    img = cv2.imread(image_path,cv2.IMREAD_COLOR)\n",
        "\n",
        "    # Resize using cubic interpolation with antialiasing\n",
        "    resized_img = cv2.resize(img, (target_width, target_height), interpolation=cv2.INTER_LINEAR)\n",
        "\n",
        "    return resized_img"
      ]
    },
    {
      "cell_type": "code",
      "execution_count": null,
      "metadata": {
        "colab": {
          "base_uri": "https://localhost:8080/"
        },
        "id": "J0wJA7tqaUy7",
        "outputId": "4a1ea3e7-14b5-4d7a-995f-855b2fb22077"
      },
      "outputs": [
        {
          "name": "stdout",
          "output_type": "stream",
          "text": [
            "1/1 [==============================] - 0s 46ms/step\n",
            "The predicted letter is: q\n"
          ]
        }
      ],
      "source": [
        "def predict_letter(image_path, model):\n",
        "    # Load and prepare the input image\n",
        "    img = resize_with_appearance_preservation(image_path,28,28)\n",
        "    img = np.expand_dims(img, axis=0)  # Add batch dimension\n",
        "    cv2.imwrite(\"resized_img.jpg\",img)\n",
        "\n",
        "    prediction = model.predict(img)\n",
        "    predicted_class = np.argmax(prediction[0])\n",
        "\n",
        "    predicted_letter = chr(ord('a') + predicted_class)\n",
        "\n",
        "    return predicted_letter\n",
        "\n",
        "\n",
        "\n",
        "# Example usage:\n",
        "predicted_letter = predict_letter('/content/q.jpg', model)\n",
        "print(f\"The predicted letter is: {predicted_letter}\")\n"
      ]
    }
  ],
  "metadata": {
    "accelerator": "GPU",
    "colab": {
      "gpuType": "T4",
      "provenance": []
    },
    "kernelspec": {
      "display_name": "Python 3",
      "name": "python3"
    },
    "language_info": {
      "name": "python"
    }
  },
  "nbformat": 4,
  "nbformat_minor": 0
}
